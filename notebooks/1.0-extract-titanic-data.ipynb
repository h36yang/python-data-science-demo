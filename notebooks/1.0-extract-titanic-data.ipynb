{
 "cells": [
  {
   "cell_type": "markdown",
   "metadata": {},
   "source": [
    "# Extracting Titanic Disaster Data from Kaggle"
   ]
  },
  {
   "cell_type": "markdown",
   "metadata": {},
   "source": [
    "### Install Kaggle API"
   ]
  },
  {
   "cell_type": "code",
   "execution_count": 6,
   "metadata": {
    "scrolled": true
   },
   "outputs": [
    {
     "name": "stdout",
     "output_type": "stream",
     "text": [
      "Requirement already satisfied: kaggle in c:\\programdata\\anaconda3\\lib\\site-packages (1.5.0)\n",
      "Requirement already satisfied: urllib3<1.23.0,>=1.15 in c:\\users\\lenovo\\appdata\\roaming\\python\\python36\\site-packages (from kaggle) (1.22)\n",
      "Requirement already satisfied: six>=1.10 in c:\\programdata\\anaconda3\\lib\\site-packages (from kaggle) (1.11.0)\n",
      "Requirement already satisfied: tqdm in c:\\programdata\\anaconda3\\lib\\site-packages (from kaggle) (4.26.0)\n",
      "Requirement already satisfied: python-dateutil in c:\\programdata\\anaconda3\\lib\\site-packages (from kaggle) (2.7.3)\n",
      "Requirement already satisfied: python-slugify in c:\\users\\lenovo\\appdata\\roaming\\python\\python36\\site-packages (from kaggle) (1.2.6)\n",
      "Requirement already satisfied: certifi in c:\\programdata\\anaconda3\\lib\\site-packages (from kaggle) (2018.8.24)\n",
      "Requirement already satisfied: requests in c:\\programdata\\anaconda3\\lib\\site-packages (from kaggle) (2.19.1)\n",
      "Requirement already satisfied: Unidecode>=0.04.16 in c:\\users\\lenovo\\appdata\\roaming\\python\\python36\\site-packages (from python-slugify->kaggle) (1.0.22)\n",
      "Requirement already satisfied: chardet<3.1.0,>=3.0.2 in c:\\programdata\\anaconda3\\lib\\site-packages (from requests->kaggle) (3.0.4)\n",
      "Requirement already satisfied: idna<2.8,>=2.5 in c:\\programdata\\anaconda3\\lib\\site-packages (from requests->kaggle) (2.7)\n"
     ]
    }
   ],
   "source": [
    "!pip install --user kaggle"
   ]
  },
  {
   "cell_type": "markdown",
   "metadata": {},
   "source": [
    "### Download Competition Datasets from Kaggle"
   ]
  },
  {
   "cell_type": "code",
   "execution_count": 18,
   "metadata": {},
   "outputs": [
    {
     "name": "stdout",
     "output_type": "stream",
     "text": [
      "..\\data\\raw\n"
     ]
    }
   ],
   "source": [
    "import os\n",
    "raw_data_path = os.path.join(os.path.pardir, 'data', 'raw')\n",
    "print(raw_data_path)"
   ]
  },
  {
   "cell_type": "markdown",
   "metadata": {},
   "source": [
    "Make sure **kaggle.json** file is placed under *%userprofile%\\.kaggle* directory"
   ]
  },
  {
   "cell_type": "code",
   "execution_count": 19,
   "metadata": {},
   "outputs": [
    {
     "name": "stdout",
     "output_type": "stream",
     "text": [
      "Downloading train.csv to ..\\data\\raw\n",
      "\n"
     ]
    },
    {
     "name": "stderr",
     "output_type": "stream",
     "text": [
      "\n",
      "  0%|          | 0.00/59.8k [00:00<?, ?B/s]\n",
      "100%|██████████| 59.8k/59.8k [00:00<00:00, 2.19MB/s]\n"
     ]
    },
    {
     "name": "stdout",
     "output_type": "stream",
     "text": [
      "Downloading test.csv to ..\\data\\raw\n",
      "\n"
     ]
    },
    {
     "name": "stderr",
     "output_type": "stream",
     "text": [
      "\n",
      "  0%|          | 0.00/28.0k [00:00<?, ?B/s]\n",
      "100%|██████████| 28.0k/28.0k [00:00<00:00, 1.91MB/s]\n"
     ]
    }
   ],
   "source": [
    "!kaggle competitions download titanic -f train.csv -p $raw_data_path --force\n",
    "!kaggle competitions download titanic -f test.csv -p $raw_data_path --force"
   ]
  },
  {
   "cell_type": "markdown",
   "metadata": {},
   "source": [
    "### Building Rerunnable Data Extraction Script"
   ]
  },
  {
   "cell_type": "code",
   "execution_count": 8,
   "metadata": {},
   "outputs": [],
   "source": [
    "get_raw_data_script_file = os.path.join(os.path.pardir, 'src', 'data', 'get_raw_data.py')"
   ]
  },
  {
   "cell_type": "code",
   "execution_count": 26,
   "metadata": {},
   "outputs": [
    {
     "name": "stdout",
     "output_type": "stream",
     "text": [
      "Overwriting ..\\src\\data\\get_raw_data.py\n"
     ]
    }
   ],
   "source": [
    "%%writefile $get_raw_data_script_file\n",
    "from subprocess import call\n",
    "import os\n",
    "import logging\n",
    "\n",
    "def main():\n",
    "    # get logger\n",
    "    logger = logging.getLogger(__name__)\n",
    "    logger.info('getting raw data')\n",
    "    \n",
    "    # set path of the raw data\n",
    "    raw_data_path = os.path.join(os.path.pardir, 'data', 'raw')\n",
    "    \n",
    "    # use Kaggle API to download the raw data\n",
    "    logger.info('downloading train data')\n",
    "    train_args = ['kaggle', 'competitions', 'download', 'titanic', '-f', 'train.csv', '-p', raw_data_path, '--force']\n",
    "    call(train_args)\n",
    "    logger.info('downloading train data completed')\n",
    "    \n",
    "    logger.info('downloading test data')\n",
    "    test_args = ['kaggle', 'competitions', 'download', 'titanic', '-f', 'test.csv', '-p', raw_data_path, '--force']\n",
    "    call(test_args)\n",
    "    logger.info('downloading test data completed')\n",
    "\n",
    "if __name__ == '__main__':\n",
    "    # set up logger\n",
    "    log_fmt = '%(asctime)s - %(name)s - %(levelname)s - %(message)s'\n",
    "    logging.basicConfig(level = logging.INFO, format = log_fmt)\n",
    "    \n",
    "    # call the main method\n",
    "    main()"
   ]
  },
  {
   "cell_type": "code",
   "execution_count": 27,
   "metadata": {},
   "outputs": [
    {
     "name": "stdout",
     "output_type": "stream",
     "text": [
      "Downloading train.csv to ..\\data\\raw\n",
      "\n",
      "Downloading test.csv to ..\\data\\raw\n",
      "\n"
     ]
    },
    {
     "name": "stderr",
     "output_type": "stream",
     "text": [
      "2018-11-02 21:36:56,226 - __main__ - INFO - getting raw data\n",
      "2018-11-02 21:36:56,226 - __main__ - INFO - downloading train data\n",
      "\n",
      "  0%|          | 0.00/59.8k [00:00<?, ?B/s]\n",
      "100%|██████████| 59.8k/59.8k [00:00<00:00, 2.36MB/s]\n",
      "2018-11-02 21:36:57,805 - __main__ - INFO - downloading train data completed\n",
      "2018-11-02 21:36:57,805 - __main__ - INFO - downloading test data\n",
      "\n",
      "  0%|          | 0.00/28.0k [00:00<?, ?B/s]\n",
      "100%|██████████| 28.0k/28.0k [00:00<00:00, 1.94MB/s]\n",
      "2018-11-02 21:36:58,690 - __main__ - INFO - downloading test data completed\n"
     ]
    }
   ],
   "source": [
    "!python $get_raw_data_script_file"
   ]
  },
  {
   "cell_type": "code",
   "execution_count": null,
   "metadata": {},
   "outputs": [],
   "source": []
  }
 ],
 "metadata": {
  "kernelspec": {
   "display_name": "Python 3",
   "language": "python",
   "name": "python3"
  },
  "language_info": {
   "codemirror_mode": {
    "name": "ipython",
    "version": 3
   },
   "file_extension": ".py",
   "mimetype": "text/x-python",
   "name": "python",
   "nbconvert_exporter": "python",
   "pygments_lexer": "ipython3",
   "version": "3.6.6"
  }
 },
 "nbformat": 4,
 "nbformat_minor": 2
}
